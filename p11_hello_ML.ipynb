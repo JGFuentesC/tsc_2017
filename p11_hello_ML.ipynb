{
 "cells": [
  {
   "cell_type": "markdown",
   "metadata": {},
   "source": [
    "## Librerías"
   ]
  },
  {
   "cell_type": "code",
   "execution_count": 52,
   "metadata": {
    "collapsed": true
   },
   "outputs": [],
   "source": [
    "import pandas as pd\n",
    "import numpy as np\n",
    "import matplotlib.pyplot as plt\n",
    "import seaborn as sns\n",
    "\n",
    "from sklearn.tree import DecisionTreeClassifier\n",
    "from sklearn.linear_model import LogisticRegression\n",
    "from sklearn.neural_network import MLPClassifier\n",
    "from sklearn.model_selection import train_test_split\n",
    "from sklearn.metrics import roc_auc_score,accuracy_score,confusion_matrix\n",
    "from sklearn.model_selection import GridSearchCV,RandomizedSearchCV\n",
    "\n",
    "from sklearn.decomposition import PCA\n",
    "from sklearn.manifold import MDS\n",
    "from sklearn.preprocessing import StandardScaler\n",
    "\n",
    "from analytics_tools3 import freq_discrete,plot_event_rate,plot_ks,plot_roc_curve,iv_report\n",
    "%matplotlib inline "
   ]
  },
  {
   "cell_type": "markdown",
   "metadata": {},
   "source": [
    "## Lectura de datos "
   ]
  },
  {
   "cell_type": "code",
   "execution_count": 2,
   "metadata": {
    "collapsed": true
   },
   "outputs": [],
   "source": [
    "df = pd.read_csv('Datos/TSC_churn_telecom.txt')"
   ]
  },
  {
   "cell_type": "code",
   "execution_count": 3,
   "metadata": {},
   "outputs": [
    {
     "data": {
      "text/html": [
       "<div>\n",
       "<style>\n",
       "    .dataframe thead tr:only-child th {\n",
       "        text-align: right;\n",
       "    }\n",
       "\n",
       "    .dataframe thead th {\n",
       "        text-align: left;\n",
       "    }\n",
       "\n",
       "    .dataframe tbody tr th {\n",
       "        vertical-align: top;\n",
       "    }\n",
       "</style>\n",
       "<table border=\"1\" class=\"dataframe\">\n",
       "  <thead>\n",
       "    <tr style=\"text-align: right;\">\n",
       "      <th></th>\n",
       "      <th>V_ACCT_LGHT</th>\n",
       "      <th>C_IP</th>\n",
       "      <th>C_VMP</th>\n",
       "      <th>V_N_VM_MESS</th>\n",
       "      <th>V_T_DAY_CHG</th>\n",
       "      <th>V_T_EVE_CALLS</th>\n",
       "      <th>V_T_EVE_CHG</th>\n",
       "      <th>V_T_NIG_CALLS</th>\n",
       "      <th>V_T_NIG_CHG</th>\n",
       "      <th>V_T_INT_CALLS</th>\n",
       "      <th>V_T_INT_CHG</th>\n",
       "      <th>V_CS_CALLS</th>\n",
       "      <th>TARGET</th>\n",
       "      <th>ID</th>\n",
       "    </tr>\n",
       "  </thead>\n",
       "  <tbody>\n",
       "    <tr>\n",
       "      <th>0</th>\n",
       "      <td>128</td>\n",
       "      <td>No</td>\n",
       "      <td>Yes</td>\n",
       "      <td>25</td>\n",
       "      <td>45.07</td>\n",
       "      <td>99</td>\n",
       "      <td>16.78</td>\n",
       "      <td>91</td>\n",
       "      <td>11.01</td>\n",
       "      <td>3</td>\n",
       "      <td>2.70</td>\n",
       "      <td>1</td>\n",
       "      <td>0</td>\n",
       "      <td>1</td>\n",
       "    </tr>\n",
       "    <tr>\n",
       "      <th>1</th>\n",
       "      <td>107</td>\n",
       "      <td>No</td>\n",
       "      <td>Yes</td>\n",
       "      <td>26</td>\n",
       "      <td>27.47</td>\n",
       "      <td>103</td>\n",
       "      <td>16.62</td>\n",
       "      <td>103</td>\n",
       "      <td>11.45</td>\n",
       "      <td>3</td>\n",
       "      <td>3.70</td>\n",
       "      <td>1</td>\n",
       "      <td>0</td>\n",
       "      <td>2</td>\n",
       "    </tr>\n",
       "    <tr>\n",
       "      <th>2</th>\n",
       "      <td>137</td>\n",
       "      <td>No</td>\n",
       "      <td>No</td>\n",
       "      <td>0</td>\n",
       "      <td>41.38</td>\n",
       "      <td>110</td>\n",
       "      <td>10.30</td>\n",
       "      <td>104</td>\n",
       "      <td>7.32</td>\n",
       "      <td>5</td>\n",
       "      <td>3.29</td>\n",
       "      <td>0</td>\n",
       "      <td>0</td>\n",
       "      <td>3</td>\n",
       "    </tr>\n",
       "    <tr>\n",
       "      <th>3</th>\n",
       "      <td>65</td>\n",
       "      <td>No</td>\n",
       "      <td>No</td>\n",
       "      <td>0</td>\n",
       "      <td>21.95</td>\n",
       "      <td>83</td>\n",
       "      <td>19.42</td>\n",
       "      <td>111</td>\n",
       "      <td>9.40</td>\n",
       "      <td>6</td>\n",
       "      <td>3.43</td>\n",
       "      <td>4</td>\n",
       "      <td>1</td>\n",
       "      <td>11</td>\n",
       "    </tr>\n",
       "    <tr>\n",
       "      <th>4</th>\n",
       "      <td>168</td>\n",
       "      <td>No</td>\n",
       "      <td>No</td>\n",
       "      <td>0</td>\n",
       "      <td>21.90</td>\n",
       "      <td>71</td>\n",
       "      <td>8.92</td>\n",
       "      <td>128</td>\n",
       "      <td>6.35</td>\n",
       "      <td>2</td>\n",
       "      <td>3.02</td>\n",
       "      <td>1</td>\n",
       "      <td>0</td>\n",
       "      <td>13</td>\n",
       "    </tr>\n",
       "  </tbody>\n",
       "</table>\n",
       "</div>"
      ],
      "text/plain": [
       "   V_ACCT_LGHT C_IP C_VMP  V_N_VM_MESS  V_T_DAY_CHG  V_T_EVE_CALLS  \\\n",
       "0          128   No   Yes           25        45.07             99   \n",
       "1          107   No   Yes           26        27.47            103   \n",
       "2          137   No    No            0        41.38            110   \n",
       "3           65   No    No            0        21.95             83   \n",
       "4          168   No    No            0        21.90             71   \n",
       "\n",
       "   V_T_EVE_CHG  V_T_NIG_CALLS  V_T_NIG_CHG  V_T_INT_CALLS  V_T_INT_CHG  \\\n",
       "0        16.78             91        11.01              3         2.70   \n",
       "1        16.62            103        11.45              3         3.70   \n",
       "2        10.30            104         7.32              5         3.29   \n",
       "3        19.42            111         9.40              6         3.43   \n",
       "4         8.92            128         6.35              2         3.02   \n",
       "\n",
       "   V_CS_CALLS  TARGET  ID  \n",
       "0           1       0   1  \n",
       "1           1       0   2  \n",
       "2           0       0   3  \n",
       "3           4       1  11  \n",
       "4           1       0  13  "
      ]
     },
     "execution_count": 3,
     "metadata": {},
     "output_type": "execute_result"
    }
   ],
   "source": [
    "df.head()"
   ]
  },
  {
   "cell_type": "code",
   "execution_count": 4,
   "metadata": {},
   "outputs": [
    {
     "data": {
      "text/plain": [
       "(2801, 14)"
      ]
     },
     "execution_count": 4,
     "metadata": {},
     "output_type": "execute_result"
    }
   ],
   "source": [
    "df.shape"
   ]
  },
  {
   "cell_type": "markdown",
   "metadata": {},
   "source": [
    "## Clasificación de variables "
   ]
  },
  {
   "cell_type": "code",
   "execution_count": 5,
   "metadata": {
    "collapsed": true
   },
   "outputs": [],
   "source": [
    "var_disc = [v for v in df.columns if v[:2]=='C_']\n",
    "var_cont = [v for v in df.columns if v[:2]=='V_']\n",
    "obj = 'TARGET'"
   ]
  },
  {
   "cell_type": "markdown",
   "metadata": {},
   "source": [
    "## Exploratorio Rápido "
   ]
  },
  {
   "cell_type": "code",
   "execution_count": 6,
   "metadata": {},
   "outputs": [
    {
     "data": {
      "text/plain": [
       "array([[<matplotlib.axes._subplots.AxesSubplot object at 0x7ff43c03e810>,\n",
       "        <matplotlib.axes._subplots.AxesSubplot object at 0x7ff439f69350>,\n",
       "        <matplotlib.axes._subplots.AxesSubplot object at 0x7ff43c0056d0>],\n",
       "       [<matplotlib.axes._subplots.AxesSubplot object at 0x7ff439e50a50>,\n",
       "        <matplotlib.axes._subplots.AxesSubplot object at 0x7ff439dd3c10>,\n",
       "        <matplotlib.axes._subplots.AxesSubplot object at 0x7ff439dc2450>],\n",
       "       [<matplotlib.axes._subplots.AxesSubplot object at 0x7ff439d473d0>,\n",
       "        <matplotlib.axes._subplots.AxesSubplot object at 0x7ff439cae090>,\n",
       "        <matplotlib.axes._subplots.AxesSubplot object at 0x7ff439c21fd0>],\n",
       "       [<matplotlib.axes._subplots.AxesSubplot object at 0x7ff439ba5e50>,\n",
       "        <matplotlib.axes._subplots.AxesSubplot object at 0x7ff439b22090>,\n",
       "        <matplotlib.axes._subplots.AxesSubplot object at 0x7ff439a98ed0>]], dtype=object)"
      ]
     },
     "execution_count": 6,
     "metadata": {},
     "output_type": "execute_result"
    },
    {
     "data": {
      "image/png": "[encoded data removed]",
      "text/plain": [
       "<matplotlib.figure.Figure at 0x7ff43c013ad0>"
      ]
     },
     "metadata": {},
     "output_type": "display_data"
    }
   ],
   "source": [
    "df[var_cont].hist()"
   ]
  },
  {
   "cell_type": "code",
   "execution_count": 7,
   "metadata": {},
   "outputs": [
    {
     "data": {
      "text/html": [
       "<div>\n",
       "<style>\n",
       "    .dataframe thead tr:only-child th {\n",
       "        text-align: right;\n",
       "    }\n",
       "\n",
       "    .dataframe thead th {\n",
       "        text-align: left;\n",
       "    }\n",
       "\n",
       "    .dataframe tbody tr th {\n",
       "        vertical-align: top;\n",
       "    }\n",
       "</style>\n",
       "<table border=\"1\" class=\"dataframe\">\n",
       "  <thead>\n",
       "    <tr style=\"text-align: right;\">\n",
       "      <th></th>\n",
       "      <th>V_ACCT_LGHT</th>\n",
       "      <th>V_N_VM_MESS</th>\n",
       "      <th>V_T_DAY_CHG</th>\n",
       "      <th>V_T_EVE_CALLS</th>\n",
       "      <th>V_T_EVE_CHG</th>\n",
       "      <th>V_T_NIG_CALLS</th>\n",
       "      <th>V_T_NIG_CHG</th>\n",
       "      <th>V_T_INT_CALLS</th>\n",
       "      <th>V_T_INT_CHG</th>\n",
       "      <th>V_CS_CALLS</th>\n",
       "    </tr>\n",
       "  </thead>\n",
       "  <tbody>\n",
       "    <tr>\n",
       "      <th>V_ACCT_LGHT</th>\n",
       "      <td>1.000000</td>\n",
       "      <td>0.006403</td>\n",
       "      <td>0.010144</td>\n",
       "      <td>0.038824</td>\n",
       "      <td>-0.001538</td>\n",
       "      <td>0.002904</td>\n",
       "      <td>-0.018335</td>\n",
       "      <td>0.024117</td>\n",
       "      <td>0.018412</td>\n",
       "      <td>-0.012671</td>\n",
       "    </tr>\n",
       "    <tr>\n",
       "      <th>V_N_VM_MESS</th>\n",
       "      <td>0.006403</td>\n",
       "      <td>1.000000</td>\n",
       "      <td>-0.000774</td>\n",
       "      <td>-0.010961</td>\n",
       "      <td>0.019215</td>\n",
       "      <td>-0.000553</td>\n",
       "      <td>-0.001205</td>\n",
       "      <td>0.011003</td>\n",
       "      <td>0.005651</td>\n",
       "      <td>-0.009471</td>\n",
       "    </tr>\n",
       "    <tr>\n",
       "      <th>V_T_DAY_CHG</th>\n",
       "      <td>0.010144</td>\n",
       "      <td>-0.000774</td>\n",
       "      <td>1.000000</td>\n",
       "      <td>0.010303</td>\n",
       "      <td>0.005383</td>\n",
       "      <td>0.008111</td>\n",
       "      <td>0.002601</td>\n",
       "      <td>0.002464</td>\n",
       "      <td>-0.001028</td>\n",
       "      <td>-0.013518</td>\n",
       "    </tr>\n",
       "    <tr>\n",
       "      <th>V_T_EVE_CALLS</th>\n",
       "      <td>0.038824</td>\n",
       "      <td>-0.010961</td>\n",
       "      <td>0.010303</td>\n",
       "      <td>1.000000</td>\n",
       "      <td>-0.007616</td>\n",
       "      <td>0.007311</td>\n",
       "      <td>0.012856</td>\n",
       "      <td>0.000585</td>\n",
       "      <td>-0.018310</td>\n",
       "      <td>-0.015075</td>\n",
       "    </tr>\n",
       "    <tr>\n",
       "      <th>V_T_EVE_CHG</th>\n",
       "      <td>-0.001538</td>\n",
       "      <td>0.019215</td>\n",
       "      <td>0.005383</td>\n",
       "      <td>-0.007616</td>\n",
       "      <td>1.000000</td>\n",
       "      <td>-0.012306</td>\n",
       "      <td>-0.014571</td>\n",
       "      <td>0.020250</td>\n",
       "      <td>-0.000887</td>\n",
       "      <td>-0.030214</td>\n",
       "    </tr>\n",
       "    <tr>\n",
       "      <th>V_T_NIG_CALLS</th>\n",
       "      <td>0.002904</td>\n",
       "      <td>-0.000553</td>\n",
       "      <td>0.008111</td>\n",
       "      <td>0.007311</td>\n",
       "      <td>-0.012306</td>\n",
       "      <td>1.000000</td>\n",
       "      <td>0.011997</td>\n",
       "      <td>-0.002452</td>\n",
       "      <td>0.002729</td>\n",
       "      <td>-0.015318</td>\n",
       "    </tr>\n",
       "    <tr>\n",
       "      <th>V_T_NIG_CHG</th>\n",
       "      <td>-0.018335</td>\n",
       "      <td>-0.001205</td>\n",
       "      <td>0.002601</td>\n",
       "      <td>0.012856</td>\n",
       "      <td>-0.014571</td>\n",
       "      <td>0.011997</td>\n",
       "      <td>1.000000</td>\n",
       "      <td>0.002556</td>\n",
       "      <td>-0.027299</td>\n",
       "      <td>-0.027155</td>\n",
       "    </tr>\n",
       "    <tr>\n",
       "      <th>V_T_INT_CALLS</th>\n",
       "      <td>0.024117</td>\n",
       "      <td>0.011003</td>\n",
       "      <td>0.002464</td>\n",
       "      <td>0.000585</td>\n",
       "      <td>0.020250</td>\n",
       "      <td>-0.002452</td>\n",
       "      <td>0.002556</td>\n",
       "      <td>1.000000</td>\n",
       "      <td>-0.008221</td>\n",
       "      <td>-0.003557</td>\n",
       "    </tr>\n",
       "    <tr>\n",
       "      <th>V_T_INT_CHG</th>\n",
       "      <td>0.018412</td>\n",
       "      <td>0.005651</td>\n",
       "      <td>-0.001028</td>\n",
       "      <td>-0.018310</td>\n",
       "      <td>-0.000887</td>\n",
       "      <td>0.002729</td>\n",
       "      <td>-0.027299</td>\n",
       "      <td>-0.008221</td>\n",
       "      <td>1.000000</td>\n",
       "      <td>-0.009003</td>\n",
       "    </tr>\n",
       "    <tr>\n",
       "      <th>V_CS_CALLS</th>\n",
       "      <td>-0.012671</td>\n",
       "      <td>-0.009471</td>\n",
       "      <td>-0.013518</td>\n",
       "      <td>-0.015075</td>\n",
       "      <td>-0.030214</td>\n",
       "      <td>-0.015318</td>\n",
       "      <td>-0.027155</td>\n",
       "      <td>-0.003557</td>\n",
       "      <td>-0.009003</td>\n",
       "      <td>1.000000</td>\n",
       "    </tr>\n",
       "  </tbody>\n",
       "</table>\n",
       "</div>"
      ],
      "text/plain": [
       "               V_ACCT_LGHT  V_N_VM_MESS  V_T_DAY_CHG  V_T_EVE_CALLS  \\\n",
       "V_ACCT_LGHT       1.000000     0.006403     0.010144       0.038824   \n",
       "V_N_VM_MESS       0.006403     1.000000    -0.000774      -0.010961   \n",
       "V_T_DAY_CHG       0.010144    -0.000774     1.000000       0.010303   \n",
       "V_T_EVE_CALLS     0.038824    -0.010961     0.010303       1.000000   \n",
       "V_T_EVE_CHG      -0.001538     0.019215     0.005383      -0.007616   \n",
       "V_T_NIG_CALLS     0.002904    -0.000553     0.008111       0.007311   \n",
       "V_T_NIG_CHG      -0.018335    -0.001205     0.002601       0.012856   \n",
       "V_T_INT_CALLS     0.024117     0.011003     0.002464       0.000585   \n",
       "V_T_INT_CHG       0.018412     0.005651    -0.001028      -0.018310   \n",
       "V_CS_CALLS       -0.012671    -0.009471    -0.013518      -0.015075   \n",
       "\n",
       "               V_T_EVE_CHG  V_T_NIG_CALLS  V_T_NIG_CHG  V_T_INT_CALLS  \\\n",
       "V_ACCT_LGHT      -0.001538       0.002904    -0.018335       0.024117   \n",
       "V_N_VM_MESS       0.019215      -0.000553    -0.001205       0.011003   \n",
       "V_T_DAY_CHG       0.005383       0.008111     0.002601       0.002464   \n",
       "V_T_EVE_CALLS    -0.007616       0.007311     0.012856       0.000585   \n",
       "V_T_EVE_CHG       1.000000      -0.012306    -0.014571       0.020250   \n",
       "V_T_NIG_CALLS    -0.012306       1.000000     0.011997      -0.002452   \n",
       "V_T_NIG_CHG      -0.014571       0.011997     1.000000       0.002556   \n",
       "V_T_INT_CALLS     0.020250      -0.002452     0.002556       1.000000   \n",
       "V_T_INT_CHG      -0.000887       0.002729    -0.027299      -0.008221   \n",
       "V_CS_CALLS       -0.030214      -0.015318    -0.027155      -0.003557   \n",
       "\n",
       "               V_T_INT_CHG  V_CS_CALLS  \n",
       "V_ACCT_LGHT       0.018412   -0.012671  \n",
       "V_N_VM_MESS       0.005651   -0.009471  \n",
       "V_T_DAY_CHG      -0.001028   -0.013518  \n",
       "V_T_EVE_CALLS    -0.018310   -0.015075  \n",
       "V_T_EVE_CHG      -0.000887   -0.030214  \n",
       "V_T_NIG_CALLS     0.002729   -0.015318  \n",
       "V_T_NIG_CHG      -0.027299   -0.027155  \n",
       "V_T_INT_CALLS    -0.008221   -0.003557  \n",
       "V_T_INT_CHG       1.000000   -0.009003  \n",
       "V_CS_CALLS       -0.009003    1.000000  "
      ]
     },
     "execution_count": 7,
     "metadata": {},
     "output_type": "execute_result"
    }
   ],
   "source": [
    "df[var_cont].corr()"
   ]
  },
  {
   "cell_type": "code",
   "execution_count": 8,
   "metadata": {
    "collapsed": true
   },
   "outputs": [],
   "source": [
    "X = df[var_cont].copy()\n",
    "y = df[obj]"
   ]
  },
  {
   "cell_type": "code",
   "execution_count": 9,
   "metadata": {
    "collapsed": true
   },
   "outputs": [],
   "source": [
    "scaler = StandardScaler()\n",
    "scaler.fit(X)\n",
    "Xs = pd.DataFrame(scaler.transform(X),columns=var_cont)\n",
    "pca = PCA()\n",
    "pca.fit(Xs)\n",
    "Xp = pd.DataFrame(pca.transform(Xs),columns=['p%d'%x for x in range(1,len(var_cont)+1)])"
   ]
  },
  {
   "cell_type": "code",
   "execution_count": 10,
   "metadata": {},
   "outputs": [
    {
     "data": {
      "text/plain": [
       "array([ 0.10674718,  0.21214068,  0.31576573,  0.41756091,  0.51726562,\n",
       "        0.61637638,  0.71467246,  0.81221384,  0.90644007,  1.        ])"
      ]
     },
     "execution_count": 10,
     "metadata": {},
     "output_type": "execute_result"
    }
   ],
   "source": [
    "pca.explained_variance_ratio_.cumsum()"
   ]
  },
  {
   "cell_type": "code",
   "execution_count": 11,
   "metadata": {},
   "outputs": [
    {
     "data": {
      "text/plain": [
       "<seaborn.axisgrid.FacetGrid at 0x7ff4395f0bd0>"
      ]
     },
     "execution_count": 11,
     "metadata": {},
     "output_type": "execute_result"
    },
    {
     "data": {
      "image/png": "[encoded data removed]",
      "text/plain": [
       "<matplotlib.figure.Figure at 0x7ff439604d50>"
      ]
     },
     "metadata": {},
     "output_type": "display_data"
    }
   ],
   "source": [
    "Xp['target'] = y\n",
    "\n",
    "sns.lmplot(data=Xp.sample(frac=0.05),x='p1',y='p2',hue='target',fit_reg=False)"
   ]
  },
  {
   "cell_type": "code",
   "execution_count": 12,
   "metadata": {},
   "outputs": [
    {
     "name": "stdout",
     "output_type": "stream",
     "text": [
      "CPU times: user 5min 28s, sys: 9min 35s, total: 15min 3s\n",
      "Wall time: 3min 56s\n"
     ]
    }
   ],
   "source": [
    "%%time\n",
    "mds = MDS(n_components=2)\n",
    "Xm = pd.DataFrame(mds.fit_transform(Xs),columns=['d1','d2'])"
   ]
  },
  {
   "cell_type": "code",
   "execution_count": 13,
   "metadata": {},
   "outputs": [
    {
     "data": {
      "text/plain": [
       "<seaborn.axisgrid.FacetGrid at 0x7ff4394cea90>"
      ]
     },
     "execution_count": 13,
     "metadata": {},
     "output_type": "execute_result"
    },
    {
     "data": {
      "image/png": "[encoded data removed]",
      "text/plain": [
       "<matplotlib.figure.Figure at 0x7ff4394ce690>"
      ]
     },
     "metadata": {},
     "output_type": "display_data"
    }
   ],
   "source": [
    "Xm['target'] = y\n",
    "sns.lmplot(data=Xm.sample(frac=0.05),x='d1',y='d2',hue='target',fit_reg=False)"
   ]
  },
  {
   "cell_type": "markdown",
   "metadata": {},
   "source": [
    "## Partición de entrenamiento"
   ]
  },
  {
   "cell_type": "code",
   "execution_count": 14,
   "metadata": {},
   "outputs": [
    {
     "name": "stdout",
     "output_type": "stream",
     "text": [
      "(1960, 10)\n",
      "(841, 10)\n",
      "(1960,)\n",
      "(841,)\n"
     ]
    },
    {
     "name": "stderr",
     "output_type": "stream",
     "text": [
      "/usr/local/lib/python2.7/dist-packages/sklearn/model_selection/_split.py:2010: FutureWarning: From version 0.21, test_size will always complement train_size unless both are specified.\n",
      "  FutureWarning)\n"
     ]
    }
   ],
   "source": [
    "Xt,Xv,yt,yv =train_test_split(X,y,train_size=0.7)\n",
    "for d in [Xt,Xv,yt,yv]:\n",
    "    print d.shape"
   ]
  },
  {
   "cell_type": "code",
   "execution_count": 15,
   "metadata": {
    "collapsed": true
   },
   "outputs": [],
   "source": [
    "def metricas(model,Xt,Xv,yt,yv):\n",
    "    print roc_auc_score(y_score=model.predict_proba(Xt)[:,1],y_true=yt)\n",
    "    print roc_auc_score(y_score=model.predict_proba(Xv)[:,1],y_true=yv)\n",
    "    print accuracy_score(y_pred=model.predict(Xt),y_true=yt)\n",
    "    print accuracy_score(y_pred=model.predict(Xv),y_true=yv)\n",
    "    print confusion_matrix(y_pred=model.predict(Xt),y_true=yt)\n",
    "    print confusion_matrix(y_pred=model.predict(Xv),y_true=yv)"
   ]
  },
  {
   "cell_type": "markdown",
   "metadata": {},
   "source": [
    "## Árboles de decisión "
   ]
  },
  {
   "cell_type": "code",
   "execution_count": 16,
   "metadata": {},
   "outputs": [
    {
     "name": "stdout",
     "output_type": "stream",
     "text": [
      "1.0\n",
      "0.730741806514\n",
      "1.0\n",
      "0.864447086801\n",
      "[[1688    0]\n",
      " [   0  272]]\n",
      "[[668  66]\n",
      " [ 48  59]]\n"
     ]
    }
   ],
   "source": [
    "model = DecisionTreeClassifier()\n",
    "model.fit(Xt,yt)\n",
    "metricas(model,Xt,Xv,yt,yv)"
   ]
  },
  {
   "cell_type": "code",
   "execution_count": 17,
   "metadata": {
    "collapsed": true
   },
   "outputs": [],
   "source": [
    "param_grid = dict(criterion=['gini','entropy'],\n",
    "                 max_depth=range(1,11),\n",
    "                 min_samples_split = range(100,210,10)\n",
    "                 )"
   ]
  },
  {
   "cell_type": "code",
   "execution_count": 18,
   "metadata": {
    "collapsed": true
   },
   "outputs": [],
   "source": [
    "model = DecisionTreeClassifier()\n",
    "grid = GridSearchCV(cv=10,n_jobs=-1,scoring='roc_auc',\n",
    "                    estimator=model,\n",
    "                    param_grid=param_grid)"
   ]
  },
  {
   "cell_type": "code",
   "execution_count": 19,
   "metadata": {},
   "outputs": [
    {
     "name": "stdout",
     "output_type": "stream",
     "text": [
      "CPU times: user 4.96 s, sys: 464 ms, total: 5.43 s\n",
      "Wall time: 14.3 s\n"
     ]
    },
    {
     "data": {
      "text/plain": [
       "GridSearchCV(cv=10, error_score='raise',\n",
       "       estimator=DecisionTreeClassifier(class_weight=None, criterion='gini', max_depth=None,\n",
       "            max_features=None, max_leaf_nodes=None,\n",
       "            min_impurity_decrease=0.0, min_impurity_split=None,\n",
       "            min_samples_leaf=1, min_samples_split=2,\n",
       "            min_weight_fraction_leaf=0.0, presort=False, random_state=None,\n",
       "            splitter='best'),\n",
       "       fit_params=None, iid=True, n_jobs=-1,\n",
       "       param_grid={'min_samples_split': [100, 110, 120, 130, 140, 150, 160, 170, 180, 190, 200], 'criterion': ['gini', 'entropy'], 'max_depth': [1, 2, 3, 4, 5, 6, 7, 8, 9, 10]},\n",
       "       pre_dispatch='2*n_jobs', refit=True, return_train_score=True,\n",
       "       scoring='roc_auc', verbose=0)"
      ]
     },
     "execution_count": 19,
     "metadata": {},
     "output_type": "execute_result"
    }
   ],
   "source": [
    "%%time \n",
    "grid.fit(X,y)"
   ]
  },
  {
   "cell_type": "code",
   "execution_count": 20,
   "metadata": {},
   "outputs": [
    {
     "name": "stdout",
     "output_type": "stream",
     "text": [
      "DecisionTreeClassifier(class_weight=None, criterion='gini', max_depth=8,\n",
      "            max_features=None, max_leaf_nodes=None,\n",
      "            min_impurity_decrease=0.0, min_impurity_split=None,\n",
      "            min_samples_leaf=1, min_samples_split=160,\n",
      "            min_weight_fraction_leaf=0.0, presort=False, random_state=None,\n",
      "            splitter='best')\n",
      "{'min_samples_split': 160, 'criterion': 'gini', 'max_depth': 8}\n",
      "0.840377668479\n"
     ]
    }
   ],
   "source": [
    "print grid.best_estimator_\n",
    "print grid.best_params_\n",
    "print grid.best_score_"
   ]
  },
  {
   "cell_type": "code",
   "execution_count": 21,
   "metadata": {},
   "outputs": [
    {
     "name": "stdout",
     "output_type": "stream",
     "text": [
      "0.881263939225\n",
      "0.825714940538\n",
      "0.887244897959\n",
      "0.868014268728\n",
      "[[1555  133]\n",
      " [  88  184]]\n",
      "[[665  69]\n",
      " [ 42  65]]\n"
     ]
    }
   ],
   "source": [
    "model = grid.best_estimator_\n",
    "model.fit(Xt,yt)\n",
    "metricas(model,Xt,Xv,yt,yv)"
   ]
  },
  {
   "cell_type": "markdown",
   "metadata": {},
   "source": [
    "## Regresión Logística "
   ]
  },
  {
   "cell_type": "code",
   "execution_count": 22,
   "metadata": {},
   "outputs": [
    {
     "name": "stdout",
     "output_type": "stream",
     "text": [
      "0.772797166853\n",
      "0.703914028878\n",
      "0.862755102041\n",
      "0.871581450654\n",
      "[[1669   19]\n",
      " [ 250   22]]\n",
      "[[724  10]\n",
      " [ 98   9]]\n"
     ]
    }
   ],
   "source": [
    "model =LogisticRegression()\n",
    "model.fit(Xt,yt)\n",
    "metricas(model,Xt,Xv,yt,yv)"
   ]
  },
  {
   "cell_type": "code",
   "execution_count": 32,
   "metadata": {},
   "outputs": [],
   "source": [
    "aux= df[['C_IP',obj,'ID']].copy()\n",
    "aux = aux.pivot_table(aggfunc='count',columns=obj,fill_value=0,\n",
    "                      index='C_IP',values='ID')\n",
    "aux.to_clipboard()"
   ]
  },
  {
   "cell_type": "code",
   "execution_count": 35,
   "metadata": {},
   "outputs": [],
   "source": [
    "aux = df[['V_ACCT_LGHT','ID',obj]].copy()"
   ]
  },
  {
   "cell_type": "code",
   "execution_count": 37,
   "metadata": {},
   "outputs": [],
   "source": [
    "aux['V_ACCT_LGHT'] = pd.cut(aux.V_ACCT_LGHT,bins=5).astype(str)"
   ]
  },
  {
   "cell_type": "code",
   "execution_count": 38,
   "metadata": {},
   "outputs": [
    {
     "name": "stdout",
     "output_type": "stream",
     "text": [
      "Frequency distribution table for variable: V_ACCT_LGHT\n",
      "\n",
      "\n",
      "                Freq       Pct  Accum Freq  Accum Pct\n",
      "(85.2, 121.8]   1005  0.358800        1005   0.358800\n",
      "(48.6, 85.2]     712  0.254195        1717   0.612995\n",
      "(121.8, 158.4]   639  0.228133        2356   0.841128\n",
      "(11.817, 48.6]   246  0.087826        2602   0.928954\n",
      "(158.4, 195.0]   199  0.071046        2801   1.000000\n",
      "\n",
      "\n"
     ]
    }
   ],
   "source": [
    "freq_discrete(aux,'V_ACCT_LGHT')"
   ]
  },
  {
   "cell_type": "code",
   "execution_count": 39,
   "metadata": {
    "collapsed": true
   },
   "outputs": [],
   "source": [
    "aux = aux.pivot_table(aggfunc='count',columns=obj,fill_value=0,\n",
    "                      index='V_ACCT_LGHT',values='ID')\n",
    "aux.to_clipboard()"
   ]
  },
  {
   "cell_type": "code",
   "execution_count": 71,
   "metadata": {},
   "outputs": [
    {
     "name": "stdout",
     "output_type": "stream",
     "text": [
      "0.70792967661\n",
      "0.618681402633\n",
      "0.861224489796\n",
      "0.86920332937\n",
      "[[1665   23]\n",
      " [ 249   23]]\n",
      "[[725   9]\n",
      " [101   6]]\n"
     ]
    }
   ],
   "source": [
    "model  = MLPClassifier()\n",
    "model.fit(Xt,yt)\n",
    "metricas(model,Xt,Xv,yt,yv)"
   ]
  },
  {
   "cell_type": "code",
   "execution_count": 67,
   "metadata": {},
   "outputs": [
    {
     "data": {
      "text/plain": [
       "array([ 0.96693136,  0.03778319,  0.02613805,  0.96837784])"
      ]
     },
     "execution_count": 67,
     "metadata": {},
     "output_type": "execute_result"
    }
   ],
   "source": []
  },
  {
   "cell_type": "code",
   "execution_count": null,
   "metadata": {
    "collapsed": true
   },
   "outputs": [],
   "source": []
  }
 ],
 "metadata": {
  "kernelspec": {
   "display_name": "Python 2",
   "language": "python",
   "name": "python2"
  },
  "language_info": {
   "codemirror_mode": {
    "name": "ipython",
    "version": 2
   },
   "file_extension": ".py",
   "mimetype": "text/x-python",
   "name": "python",
   "nbconvert_exporter": "python",
   "pygments_lexer": "ipython2",
   "version": "2.7.12"
  }
 },
 "nbformat": 4,
 "nbformat_minor": 2
}
