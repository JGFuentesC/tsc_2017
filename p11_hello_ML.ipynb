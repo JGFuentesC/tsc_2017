{
 "cells": [
  {
   "cell_type": "markdown",
   "metadata": {},
   "source": [
    "## Librerías"
   ]
  },
  {
   "cell_type": "code",
   "execution_count": 1,
   "metadata": {
    "collapsed": true
   },
   "outputs": [],
   "source": [
    "import pandas as pd\n",
    "import numpy as np\n",
    "import matplotlib.pyplot as plt\n",
    "import seaborn as sns\n",
    "\n",
    "from sklearn.tree import DecisionTreeClassifier\n",
    "from sklearn.linear_model import LogisticRegression\n",
    "from sklearn.neural_network import MLPClassifier\n",
    "from sklearn.svm import SVC\n",
    "from sklearn.neighbors import KNeighborsClassifier\n",
    "from sklearn.linear_model import SGDClassifier\n",
    "from sklearn.naive_bayes import GaussianNB\n",
    "\n",
    "from sklearn.model_selection import train_test_split\n",
    "from sklearn.metrics import roc_auc_score,accuracy_score,confusion_matrix\n",
    "from sklearn.model_selection import GridSearchCV,RandomizedSearchCV\n",
    "\n",
    "from sklearn.decomposition import PCA\n",
    "from sklearn.manifold import MDS\n",
    "from sklearn.preprocessing import Imputer,StandardScaler,MinMaxScaler\n",
    "from sklearn.pipeline import make_pipeline\n",
    "\n",
    "import pickle\n",
    "from analytics_tools3 import freq_discrete,plot_event_rate,plot_ks,plot_roc_curve,iv_report\n",
    "%matplotlib inline "
   ]
  },
  {
   "cell_type": "markdown",
   "metadata": {},
   "source": [
    "## Lectura de datos "
   ]
  },
  {
   "cell_type": "code",
   "execution_count": 2,
   "metadata": {
    "collapsed": true
   },
   "outputs": [],
   "source": [
    "df = pd.read_csv('Datos/TSC_churn_telecom.txt')"
   ]
  },
  {
   "cell_type": "code",
   "execution_count": 3,
   "metadata": {},
   "outputs": [
    {
     "data": {
      "text/html": [
       "<div>\n",
       "<style>\n",
       "    .dataframe thead tr:only-child th {\n",
       "        text-align: right;\n",
       "    }\n",
       "\n",
       "    .dataframe thead th {\n",
       "        text-align: left;\n",
       "    }\n",
       "\n",
       "    .dataframe tbody tr th {\n",
       "        vertical-align: top;\n",
       "    }\n",
       "</style>\n",
       "<table border=\"1\" class=\"dataframe\">\n",
       "  <thead>\n",
       "    <tr style=\"text-align: right;\">\n",
       "      <th></th>\n",
       "      <th>V_ACCT_LGHT</th>\n",
       "      <th>C_IP</th>\n",
       "      <th>C_VMP</th>\n",
       "      <th>V_N_VM_MESS</th>\n",
       "      <th>V_T_DAY_CHG</th>\n",
       "      <th>V_T_EVE_CALLS</th>\n",
       "      <th>V_T_EVE_CHG</th>\n",
       "      <th>V_T_NIG_CALLS</th>\n",
       "      <th>V_T_NIG_CHG</th>\n",
       "      <th>V_T_INT_CALLS</th>\n",
       "      <th>V_T_INT_CHG</th>\n",
       "      <th>V_CS_CALLS</th>\n",
       "      <th>TARGET</th>\n",
       "      <th>ID</th>\n",
       "    </tr>\n",
       "  </thead>\n",
       "  <tbody>\n",
       "    <tr>\n",
       "      <th>0</th>\n",
       "      <td>128</td>\n",
       "      <td>No</td>\n",
       "      <td>Yes</td>\n",
       "      <td>25</td>\n",
       "      <td>45.07</td>\n",
       "      <td>99</td>\n",
       "      <td>16.78</td>\n",
       "      <td>91</td>\n",
       "      <td>11.01</td>\n",
       "      <td>3</td>\n",
       "      <td>2.70</td>\n",
       "      <td>1</td>\n",
       "      <td>0</td>\n",
       "      <td>1</td>\n",
       "    </tr>\n",
       "    <tr>\n",
       "      <th>1</th>\n",
       "      <td>107</td>\n",
       "      <td>No</td>\n",
       "      <td>Yes</td>\n",
       "      <td>26</td>\n",
       "      <td>27.47</td>\n",
       "      <td>103</td>\n",
       "      <td>16.62</td>\n",
       "      <td>103</td>\n",
       "      <td>11.45</td>\n",
       "      <td>3</td>\n",
       "      <td>3.70</td>\n",
       "      <td>1</td>\n",
       "      <td>0</td>\n",
       "      <td>2</td>\n",
       "    </tr>\n",
       "    <tr>\n",
       "      <th>2</th>\n",
       "      <td>137</td>\n",
       "      <td>No</td>\n",
       "      <td>No</td>\n",
       "      <td>0</td>\n",
       "      <td>41.38</td>\n",
       "      <td>110</td>\n",
       "      <td>10.30</td>\n",
       "      <td>104</td>\n",
       "      <td>7.32</td>\n",
       "      <td>5</td>\n",
       "      <td>3.29</td>\n",
       "      <td>0</td>\n",
       "      <td>0</td>\n",
       "      <td>3</td>\n",
       "    </tr>\n",
       "    <tr>\n",
       "      <th>3</th>\n",
       "      <td>65</td>\n",
       "      <td>No</td>\n",
       "      <td>No</td>\n",
       "      <td>0</td>\n",
       "      <td>21.95</td>\n",
       "      <td>83</td>\n",
       "      <td>19.42</td>\n",
       "      <td>111</td>\n",
       "      <td>9.40</td>\n",
       "      <td>6</td>\n",
       "      <td>3.43</td>\n",
       "      <td>4</td>\n",
       "      <td>1</td>\n",
       "      <td>11</td>\n",
       "    </tr>\n",
       "    <tr>\n",
       "      <th>4</th>\n",
       "      <td>168</td>\n",
       "      <td>No</td>\n",
       "      <td>No</td>\n",
       "      <td>0</td>\n",
       "      <td>21.90</td>\n",
       "      <td>71</td>\n",
       "      <td>8.92</td>\n",
       "      <td>128</td>\n",
       "      <td>6.35</td>\n",
       "      <td>2</td>\n",
       "      <td>3.02</td>\n",
       "      <td>1</td>\n",
       "      <td>0</td>\n",
       "      <td>13</td>\n",
       "    </tr>\n",
       "  </tbody>\n",
       "</table>\n",
       "</div>"
      ],
      "text/plain": [
       "   V_ACCT_LGHT C_IP C_VMP  V_N_VM_MESS  V_T_DAY_CHG  V_T_EVE_CALLS  \\\n",
       "0          128   No   Yes           25        45.07             99   \n",
       "1          107   No   Yes           26        27.47            103   \n",
       "2          137   No    No            0        41.38            110   \n",
       "3           65   No    No            0        21.95             83   \n",
       "4          168   No    No            0        21.90             71   \n",
       "\n",
       "   V_T_EVE_CHG  V_T_NIG_CALLS  V_T_NIG_CHG  V_T_INT_CALLS  V_T_INT_CHG  \\\n",
       "0        16.78             91        11.01              3         2.70   \n",
       "1        16.62            103        11.45              3         3.70   \n",
       "2        10.30            104         7.32              5         3.29   \n",
       "3        19.42            111         9.40              6         3.43   \n",
       "4         8.92            128         6.35              2         3.02   \n",
       "\n",
       "   V_CS_CALLS  TARGET  ID  \n",
       "0           1       0   1  \n",
       "1           1       0   2  \n",
       "2           0       0   3  \n",
       "3           4       1  11  \n",
       "4           1       0  13  "
      ]
     },
     "execution_count": 3,
     "metadata": {},
     "output_type": "execute_result"
    }
   ],
   "source": [
    "df.head()"
   ]
  },
  {
   "cell_type": "code",
   "execution_count": 4,
   "metadata": {},
   "outputs": [
    {
     "data": {
      "text/plain": [
       "(2801, 14)"
      ]
     },
     "execution_count": 4,
     "metadata": {},
     "output_type": "execute_result"
    }
   ],
   "source": [
    "df.shape"
   ]
  },
  {
   "cell_type": "markdown",
   "metadata": {},
   "source": [
    "## Clasificación de variables "
   ]
  },
  {
   "cell_type": "code",
   "execution_count": 5,
   "metadata": {
    "collapsed": true
   },
   "outputs": [],
   "source": [
    "var_disc = [v for v in df.columns if v[:2]=='C_']\n",
    "var_cont = [v for v in df.columns if v[:2]=='V_']\n",
    "obj = 'TARGET'"
   ]
  },
  {
   "cell_type": "markdown",
   "metadata": {},
   "source": [
    "## Exploratorio Rápido "
   ]
  },
  {
   "cell_type": "code",
   "execution_count": 6,
   "metadata": {},
   "outputs": [
    {
     "data": {
      "text/plain": [
       "array([[<matplotlib.axes._subplots.AxesSubplot object at 0x7f8f5a74d350>,\n",
       "        <matplotlib.axes._subplots.AxesSubplot object at 0x7f8f2c501a90>,\n",
       "        <matplotlib.axes._subplots.AxesSubplot object at 0x7f8f2c5ac150>],\n",
       "       [<matplotlib.axes._subplots.AxesSubplot object at 0x7f8f2c476390>,\n",
       "        <matplotlib.axes._subplots.AxesSubplot object at 0x7f8f2c3f8210>,\n",
       "        <matplotlib.axes._subplots.AxesSubplot object at 0x7f8f2c35aa90>],\n",
       "       [<matplotlib.axes._subplots.AxesSubplot object at 0x7f8f2c2dda10>,\n",
       "        <matplotlib.axes._subplots.AxesSubplot object at 0x7f8f2c243890>,\n",
       "        <matplotlib.axes._subplots.AxesSubplot object at 0x7f8f2c1c7810>],\n",
       "       [<matplotlib.axes._subplots.AxesSubplot object at 0x7f8f2c181950>,\n",
       "        <matplotlib.axes._subplots.AxesSubplot object at 0x7f8f2c138790>,\n",
       "        <matplotlib.axes._subplots.AxesSubplot object at 0x7f8f2c0bc610>]], dtype=object)"
      ]
     },
     "execution_count": 6,
     "metadata": {},
     "output_type": "execute_result"
    },
    {
     "data": {
      "image/png": "[encoded data removed]",
      "text/plain": [
       "<matplotlib.figure.Figure at 0x7f8f2e5ce650>"
      ]
     },
     "metadata": {},
     "output_type": "display_data"
    }
   ],
   "source": [
    "df[var_cont].hist()"
   ]
  },
  {
   "cell_type": "code",
   "execution_count": 7,
   "metadata": {},
   "outputs": [
    {
     "data": {
      "text/html": [
       "<div>\n",
       "<style>\n",
       "    .dataframe thead tr:only-child th {\n",
       "        text-align: right;\n",
       "    }\n",
       "\n",
       "    .dataframe thead th {\n",
       "        text-align: left;\n",
       "    }\n",
       "\n",
       "    .dataframe tbody tr th {\n",
       "        vertical-align: top;\n",
       "    }\n",
       "</style>\n",
       "<table border=\"1\" class=\"dataframe\">\n",
       "  <thead>\n",
       "    <tr style=\"text-align: right;\">\n",
       "      <th></th>\n",
       "      <th>V_ACCT_LGHT</th>\n",
       "      <th>V_N_VM_MESS</th>\n",
       "      <th>V_T_DAY_CHG</th>\n",
       "      <th>V_T_EVE_CALLS</th>\n",
       "      <th>V_T_EVE_CHG</th>\n",
       "      <th>V_T_NIG_CALLS</th>\n",
       "      <th>V_T_NIG_CHG</th>\n",
       "      <th>V_T_INT_CALLS</th>\n",
       "      <th>V_T_INT_CHG</th>\n",
       "      <th>V_CS_CALLS</th>\n",
       "    </tr>\n",
       "  </thead>\n",
       "  <tbody>\n",
       "    <tr>\n",
       "      <th>V_ACCT_LGHT</th>\n",
       "      <td>1.000000</td>\n",
       "      <td>0.006403</td>\n",
       "      <td>0.010144</td>\n",
       "      <td>0.038824</td>\n",
       "      <td>-0.001538</td>\n",
       "      <td>0.002904</td>\n",
       "      <td>-0.018335</td>\n",
       "      <td>0.024117</td>\n",
       "      <td>0.018412</td>\n",
       "      <td>-0.012671</td>\n",
       "    </tr>\n",
       "    <tr>\n",
       "      <th>V_N_VM_MESS</th>\n",
       "      <td>0.006403</td>\n",
       "      <td>1.000000</td>\n",
       "      <td>-0.000774</td>\n",
       "      <td>-0.010961</td>\n",
       "      <td>0.019215</td>\n",
       "      <td>-0.000553</td>\n",
       "      <td>-0.001205</td>\n",
       "      <td>0.011003</td>\n",
       "      <td>0.005651</td>\n",
       "      <td>-0.009471</td>\n",
       "    </tr>\n",
       "    <tr>\n",
       "      <th>V_T_DAY_CHG</th>\n",
       "      <td>0.010144</td>\n",
       "      <td>-0.000774</td>\n",
       "      <td>1.000000</td>\n",
       "      <td>0.010303</td>\n",
       "      <td>0.005383</td>\n",
       "      <td>0.008111</td>\n",
       "      <td>0.002601</td>\n",
       "      <td>0.002464</td>\n",
       "      <td>-0.001028</td>\n",
       "      <td>-0.013518</td>\n",
       "    </tr>\n",
       "    <tr>\n",
       "      <th>V_T_EVE_CALLS</th>\n",
       "      <td>0.038824</td>\n",
       "      <td>-0.010961</td>\n",
       "      <td>0.010303</td>\n",
       "      <td>1.000000</td>\n",
       "      <td>-0.007616</td>\n",
       "      <td>0.007311</td>\n",
       "      <td>0.012856</td>\n",
       "      <td>0.000585</td>\n",
       "      <td>-0.018310</td>\n",
       "      <td>-0.015075</td>\n",
       "    </tr>\n",
       "    <tr>\n",
       "      <th>V_T_EVE_CHG</th>\n",
       "      <td>-0.001538</td>\n",
       "      <td>0.019215</td>\n",
       "      <td>0.005383</td>\n",
       "      <td>-0.007616</td>\n",
       "      <td>1.000000</td>\n",
       "      <td>-0.012306</td>\n",
       "      <td>-0.014571</td>\n",
       "      <td>0.020250</td>\n",
       "      <td>-0.000887</td>\n",
       "      <td>-0.030214</td>\n",
       "    </tr>\n",
       "    <tr>\n",
       "      <th>V_T_NIG_CALLS</th>\n",
       "      <td>0.002904</td>\n",
       "      <td>-0.000553</td>\n",
       "      <td>0.008111</td>\n",
       "      <td>0.007311</td>\n",
       "      <td>-0.012306</td>\n",
       "      <td>1.000000</td>\n",
       "      <td>0.011997</td>\n",
       "      <td>-0.002452</td>\n",
       "      <td>0.002729</td>\n",
       "      <td>-0.015318</td>\n",
       "    </tr>\n",
       "    <tr>\n",
       "      <th>V_T_NIG_CHG</th>\n",
       "      <td>-0.018335</td>\n",
       "      <td>-0.001205</td>\n",
       "      <td>0.002601</td>\n",
       "      <td>0.012856</td>\n",
       "      <td>-0.014571</td>\n",
       "      <td>0.011997</td>\n",
       "      <td>1.000000</td>\n",
       "      <td>0.002556</td>\n",
       "      <td>-0.027299</td>\n",
       "      <td>-0.027155</td>\n",
       "    </tr>\n",
       "    <tr>\n",
       "      <th>V_T_INT_CALLS</th>\n",
       "      <td>0.024117</td>\n",
       "      <td>0.011003</td>\n",
       "      <td>0.002464</td>\n",
       "      <td>0.000585</td>\n",
       "      <td>0.020250</td>\n",
       "      <td>-0.002452</td>\n",
       "      <td>0.002556</td>\n",
       "      <td>1.000000</td>\n",
       "      <td>-0.008221</td>\n",
       "      <td>-0.003557</td>\n",
       "    </tr>\n",
       "    <tr>\n",
       "      <th>V_T_INT_CHG</th>\n",
       "      <td>0.018412</td>\n",
       "      <td>0.005651</td>\n",
       "      <td>-0.001028</td>\n",
       "      <td>-0.018310</td>\n",
       "      <td>-0.000887</td>\n",
       "      <td>0.002729</td>\n",
       "      <td>-0.027299</td>\n",
       "      <td>-0.008221</td>\n",
       "      <td>1.000000</td>\n",
       "      <td>-0.009003</td>\n",
       "    </tr>\n",
       "    <tr>\n",
       "      <th>V_CS_CALLS</th>\n",
       "      <td>-0.012671</td>\n",
       "      <td>-0.009471</td>\n",
       "      <td>-0.013518</td>\n",
       "      <td>-0.015075</td>\n",
       "      <td>-0.030214</td>\n",
       "      <td>-0.015318</td>\n",
       "      <td>-0.027155</td>\n",
       "      <td>-0.003557</td>\n",
       "      <td>-0.009003</td>\n",
       "      <td>1.000000</td>\n",
       "    </tr>\n",
       "  </tbody>\n",
       "</table>\n",
       "</div>"
      ],
      "text/plain": [
       "               V_ACCT_LGHT  V_N_VM_MESS  V_T_DAY_CHG  V_T_EVE_CALLS  \\\n",
       "V_ACCT_LGHT       1.000000     0.006403     0.010144       0.038824   \n",
       "V_N_VM_MESS       0.006403     1.000000    -0.000774      -0.010961   \n",
       "V_T_DAY_CHG       0.010144    -0.000774     1.000000       0.010303   \n",
       "V_T_EVE_CALLS     0.038824    -0.010961     0.010303       1.000000   \n",
       "V_T_EVE_CHG      -0.001538     0.019215     0.005383      -0.007616   \n",
       "V_T_NIG_CALLS     0.002904    -0.000553     0.008111       0.007311   \n",
       "V_T_NIG_CHG      -0.018335    -0.001205     0.002601       0.012856   \n",
       "V_T_INT_CALLS     0.024117     0.011003     0.002464       0.000585   \n",
       "V_T_INT_CHG       0.018412     0.005651    -0.001028      -0.018310   \n",
       "V_CS_CALLS       -0.012671    -0.009471    -0.013518      -0.015075   \n",
       "\n",
       "               V_T_EVE_CHG  V_T_NIG_CALLS  V_T_NIG_CHG  V_T_INT_CALLS  \\\n",
       "V_ACCT_LGHT      -0.001538       0.002904    -0.018335       0.024117   \n",
       "V_N_VM_MESS       0.019215      -0.000553    -0.001205       0.011003   \n",
       "V_T_DAY_CHG       0.005383       0.008111     0.002601       0.002464   \n",
       "V_T_EVE_CALLS    -0.007616       0.007311     0.012856       0.000585   \n",
       "V_T_EVE_CHG       1.000000      -0.012306    -0.014571       0.020250   \n",
       "V_T_NIG_CALLS    -0.012306       1.000000     0.011997      -0.002452   \n",
       "V_T_NIG_CHG      -0.014571       0.011997     1.000000       0.002556   \n",
       "V_T_INT_CALLS     0.020250      -0.002452     0.002556       1.000000   \n",
       "V_T_INT_CHG      -0.000887       0.002729    -0.027299      -0.008221   \n",
       "V_CS_CALLS       -0.030214      -0.015318    -0.027155      -0.003557   \n",
       "\n",
       "               V_T_INT_CHG  V_CS_CALLS  \n",
       "V_ACCT_LGHT       0.018412   -0.012671  \n",
       "V_N_VM_MESS       0.005651   -0.009471  \n",
       "V_T_DAY_CHG      -0.001028   -0.013518  \n",
       "V_T_EVE_CALLS    -0.018310   -0.015075  \n",
       "V_T_EVE_CHG      -0.000887   -0.030214  \n",
       "V_T_NIG_CALLS     0.002729   -0.015318  \n",
       "V_T_NIG_CHG      -0.027299   -0.027155  \n",
       "V_T_INT_CALLS    -0.008221   -0.003557  \n",
       "V_T_INT_CHG       1.000000   -0.009003  \n",
       "V_CS_CALLS       -0.009003    1.000000  "
      ]
     },
     "execution_count": 7,
     "metadata": {},
     "output_type": "execute_result"
    }
   ],
   "source": [
    "df[var_cont].corr()"
   ]
  },
  {
   "cell_type": "code",
   "execution_count": 8,
   "metadata": {
    "collapsed": true
   },
   "outputs": [],
   "source": [
    "X = df[var_cont].copy()\n",
    "y = df[obj]"
   ]
  },
  {
   "cell_type": "code",
   "execution_count": 9,
   "metadata": {
    "collapsed": true
   },
   "outputs": [],
   "source": [
    "scaler = StandardScaler()\n",
    "scaler.fit(X)\n",
    "Xs = pd.DataFrame(scaler.transform(X),columns=var_cont)\n",
    "pca = PCA()\n",
    "pca.fit(Xs)\n",
    "Xp = pd.DataFrame(pca.transform(Xs),columns=['p%d'%x for x in range(1,len(var_cont)+1)])"
   ]
  },
  {
   "cell_type": "code",
   "execution_count": null,
   "metadata": {},
   "outputs": [],
   "source": [
    "pca.explained_variance_ratio_.cumsum()"
   ]
  },
  {
   "cell_type": "code",
   "execution_count": null,
   "metadata": {},
   "outputs": [],
   "source": [
    "Xp['target'] = y\n",
    "\n",
    "sns.lmplot(data=Xp.sample(frac=0.05),x='p1',y='p2',hue='target',fit_reg=False)"
   ]
  },
  {
   "cell_type": "code",
   "execution_count": null,
   "metadata": {},
   "outputs": [],
   "source": [
    "%%time\n",
    "mds = MDS(n_components=2)\n",
    "Xm = pd.DataFrame(mds.fit_transform(Xs),columns=['d1','d2'])"
   ]
  },
  {
   "cell_type": "code",
   "execution_count": null,
   "metadata": {},
   "outputs": [],
   "source": [
    "Xm['target'] = y\n",
    "sns.lmplot(data=Xm.sample(frac=0.05),x='d1',y='d2',hue='target',fit_reg=False)"
   ]
  },
  {
   "cell_type": "markdown",
   "metadata": {},
   "source": [
    "## Partición de entrenamiento"
   ]
  },
  {
   "cell_type": "code",
   "execution_count": 10,
   "metadata": {},
   "outputs": [
    {
     "name": "stdout",
     "output_type": "stream",
     "text": [
      "(1960, 10)\n",
      "(841, 10)\n",
      "(1960,)\n",
      "(841,)\n"
     ]
    },
    {
     "name": "stderr",
     "output_type": "stream",
     "text": [
      "/usr/local/lib/python2.7/dist-packages/sklearn/model_selection/_split.py:2010: FutureWarning: From version 0.21, test_size will always complement train_size unless both are specified.\n",
      "  FutureWarning)\n"
     ]
    }
   ],
   "source": [
    "Xt,Xv,yt,yv =train_test_split(X,y,train_size=0.7)\n",
    "for d in [Xt,Xv,yt,yv]:\n",
    "    print d.shape"
   ]
  },
  {
   "cell_type": "code",
   "execution_count": 11,
   "metadata": {
    "collapsed": true
   },
   "outputs": [],
   "source": [
    "def metricas(model,Xt,Xv,yt,yv):\n",
    "    print roc_auc_score(y_score=model.predict_proba(Xt)[:,1],y_true=yt)\n",
    "    print roc_auc_score(y_score=model.predict_proba(Xv)[:,1],y_true=yv)\n",
    "    print accuracy_score(y_pred=model.predict(Xt),y_true=yt)\n",
    "    print accuracy_score(y_pred=model.predict(Xv),y_true=yv)\n",
    "    print confusion_matrix(y_pred=model.predict(Xt),y_true=yt)\n",
    "    print confusion_matrix(y_pred=model.predict(Xv),y_true=yv)"
   ]
  },
  {
   "cell_type": "markdown",
   "metadata": {},
   "source": [
    "## Árboles de decisión "
   ]
  },
  {
   "cell_type": "code",
   "execution_count": 42,
   "metadata": {},
   "outputs": [
    {
     "name": "stdout",
     "output_type": "stream",
     "text": [
      "1.0\n",
      "0.733391563147\n",
      "1.0\n",
      "0.86920332937\n",
      "[[1686    0]\n",
      " [   0  274]]\n",
      "[[673  63]\n",
      " [ 47  58]]\n"
     ]
    }
   ],
   "source": [
    "model = DecisionTreeClassifier()\n",
    "model.fit(Xt,yt)\n",
    "metricas(model,Xt,Xv,yt,yv)"
   ]
  },
  {
   "cell_type": "code",
   "execution_count": 43,
   "metadata": {
    "collapsed": true
   },
   "outputs": [],
   "source": [
    "param_grid = dict(criterion=['gini','entropy'],\n",
    "                 max_depth=range(1,11),\n",
    "                 min_samples_split = range(100,210,10)\n",
    "                 )"
   ]
  },
  {
   "cell_type": "code",
   "execution_count": 45,
   "metadata": {},
   "outputs": [
    {
     "name": "stdout",
     "output_type": "stream",
     "text": [
      "DecisionTreeClassifier(class_weight=None, criterion='gini', max_depth=8,\n",
      "            max_features=None, max_leaf_nodes=None,\n",
      "            min_impurity_decrease=0.0, min_impurity_split=None,\n",
      "            min_samples_leaf=1, min_samples_split=160,\n",
      "            min_weight_fraction_leaf=0.0, presort=False, random_state=None,\n",
      "            splitter='best')\n",
      "{'min_samples_split': 160, 'criterion': 'gini', 'max_depth': 8}\n",
      "0.840377668479\n",
      "CPU times: user 5.15 s, sys: 516 ms, total: 5.66 s\n",
      "Wall time: 15.8 s\n"
     ]
    }
   ],
   "source": [
    "%%time \n",
    "model = DecisionTreeClassifier()\n",
    "grid = GridSearchCV(cv=10,n_jobs=-1,scoring='roc_auc',\n",
    "                    estimator=model,\n",
    "                    param_grid=param_grid)\n",
    "\n",
    "\n",
    "grid.fit(X,y)\n",
    "\n",
    "print grid.best_estimator_\n",
    "print grid.best_params_\n",
    "print grid.best_score_"
   ]
  },
  {
   "cell_type": "code",
   "execution_count": null,
   "metadata": {},
   "outputs": [],
   "source": [
    "model = grid.best_estimator_\n",
    "model.fit(Xt,yt)\n",
    "metricas(model,Xt,Xv,yt,yv)"
   ]
  },
  {
   "cell_type": "markdown",
   "metadata": {},
   "source": [
    "## Regresión Logística "
   ]
  },
  {
   "cell_type": "code",
   "execution_count": 41,
   "metadata": {},
   "outputs": [
    {
     "name": "stdout",
     "output_type": "stream",
     "text": [
      "0.757312258098\n",
      "0.740113871636\n",
      "0.859693877551\n",
      "0.87514863258\n",
      "[[1672   14]\n",
      " [ 261   13]]\n",
      "[[733   3]\n",
      " [102   3]]\n"
     ]
    }
   ],
   "source": [
    "model =LogisticRegression()\n",
    "model.fit(Xt,yt)\n",
    "metricas(model,Xt,Xv,yt,yv)"
   ]
  },
  {
   "cell_type": "code",
   "execution_count": null,
   "metadata": {
    "collapsed": true
   },
   "outputs": [],
   "source": [
    "aux= df[['C_IP',obj,'ID']].copy()\n",
    "aux = aux.pivot_table(aggfunc='count',columns=obj,fill_value=0,\n",
    "                      index='C_IP',values='ID')\n",
    "aux.to_clipboard()"
   ]
  },
  {
   "cell_type": "code",
   "execution_count": null,
   "metadata": {
    "collapsed": true
   },
   "outputs": [],
   "source": [
    "aux = df[['V_ACCT_LGHT','ID',obj]].copy()"
   ]
  },
  {
   "cell_type": "code",
   "execution_count": null,
   "metadata": {
    "collapsed": true
   },
   "outputs": [],
   "source": [
    "aux['V_ACCT_LGHT'] = pd.cut(aux.V_ACCT_LGHT,bins=5).astype(str)"
   ]
  },
  {
   "cell_type": "code",
   "execution_count": null,
   "metadata": {},
   "outputs": [],
   "source": [
    "freq_discrete(aux,'V_ACCT_LGHT')"
   ]
  },
  {
   "cell_type": "code",
   "execution_count": null,
   "metadata": {
    "collapsed": true
   },
   "outputs": [],
   "source": [
    "aux = aux.pivot_table(aggfunc='count',columns=obj,fill_value=0,\n",
    "                      index='V_ACCT_LGHT',values='ID')\n",
    "aux.to_clipboard()"
   ]
  },
  {
   "cell_type": "markdown",
   "metadata": {},
   "source": [
    "## Red neural "
   ]
  },
  {
   "cell_type": "code",
   "execution_count": null,
   "metadata": {},
   "outputs": [],
   "source": [
    "model  = MLPClassifier()\n",
    "model.fit(Xt,yt)\n",
    "metricas(model,Xt,Xv,yt,yv)"
   ]
  },
  {
   "cell_type": "code",
   "execution_count": null,
   "metadata": {
    "collapsed": true
   },
   "outputs": [],
   "source": [
    "imputer = Imputer(strategy='mean')\n",
    "scaler = MinMaxScaler()\n",
    "pca = PCA()\n",
    "pipe = make_pipeline(imputer,pca,scaler)"
   ]
  },
  {
   "cell_type": "code",
   "execution_count": null,
   "metadata": {},
   "outputs": [],
   "source": [
    "pipe.fit(X)"
   ]
  },
  {
   "cell_type": "code",
   "execution_count": null,
   "metadata": {
    "collapsed": true
   },
   "outputs": [],
   "source": [
    "Xp=pd.DataFrame(pipe.transform(X),columns=['p%d'%x for x in range(1,len(var_cont)+1)])"
   ]
  },
  {
   "cell_type": "code",
   "execution_count": null,
   "metadata": {
    "collapsed": true
   },
   "outputs": [],
   "source": [
    "param_grid= dict(hidden_layer_sizes=[(i,) for i in range(5,21)],\n",
    "activation = ['identity', 'logistic', 'tanh', 'relu'],\n",
    "solver = ['lbfgs', 'sgd', 'adam'],\n",
    "learning_rate = ['constant', 'invscaling', 'adaptive'],\n",
    "max_iter = [10000])"
   ]
  },
  {
   "cell_type": "code",
   "execution_count": null,
   "metadata": {
    "collapsed": true
   },
   "outputs": [],
   "source": [
    "%%time \n",
    "model = MLPClassifier()\n",
    "grid = GridSearchCV(cv=4,n_jobs=-1,scoring='roc_auc',\n",
    "                    estimator=model,\n",
    "                    param_grid=param_grid)\n",
    "\n",
    "grid.fit(Xp,y)\n",
    "\n",
    "print grid.best_estimator_\n",
    "print grid.best_params_\n",
    "print grid.best_score_"
   ]
  },
  {
   "cell_type": "markdown",
   "metadata": {},
   "source": [
    "## Máquina Vector Soporte "
   ]
  },
  {
   "cell_type": "code",
   "execution_count": 38,
   "metadata": {},
   "outputs": [],
   "source": [
    "param_grid = dict(kernel = ['linear', 'poly', 'rbf', 'sigmoid'],\n",
    "degree= range(1,6),\n",
    "decision_function_shape = ('ovo', 'ovr'))"
   ]
  },
  {
   "cell_type": "code",
   "execution_count": 39,
   "metadata": {
    "collapsed": true
   },
   "outputs": [],
   "source": [
    "imputer = Imputer(strategy='mean')\n",
    "scaler = MinMaxScaler()\n",
    "pca = PCA()\n",
    "pipe = make_pipeline(imputer,pca,scaler)\n",
    "pipe.fit(X)\n",
    "Xp=pd.DataFrame(pipe.transform(X),columns=['p%d'%x for x in range(1,len(var_cont)+1)])"
   ]
  },
  {
   "cell_type": "code",
   "execution_count": 40,
   "metadata": {},
   "outputs": [
    {
     "name": "stdout",
     "output_type": "stream",
     "text": [
      "SVC(C=1.0, cache_size=200, class_weight=None, coef0=0.0,\n",
      "  decision_function_shape='ovo', degree=1, gamma='auto', kernel='rbf',\n",
      "  max_iter=-1, probability=False, random_state=None, shrinking=True,\n",
      "  tol=0.001, verbose=False)\n",
      "{'kernel': 'rbf', 'decision_function_shape': 'ovo', 'degree': 1}\n",
      "0.82359253284\n",
      "CPU times: user 892 ms, sys: 80 ms, total: 972 ms\n",
      "Wall time: 9.85 s\n"
     ]
    }
   ],
   "source": [
    "%%time \n",
    "model = SVC()\n",
    "grid = GridSearchCV(cv=4,n_jobs=-1,scoring='roc_auc',\n",
    "                    estimator=model,\n",
    "                    param_grid=param_grid)\n",
    "\n",
    "grid.fit(Xp,y)\n",
    "\n",
    "print grid.best_estimator_\n",
    "print grid.best_params_\n",
    "print grid.best_score_"
   ]
  },
  {
   "cell_type": "markdown",
   "metadata": {},
   "source": [
    "## K-Vecinos "
   ]
  },
  {
   "cell_type": "code",
   "execution_count": null,
   "metadata": {},
   "outputs": [],
   "source": [
    "param_grid=dict(algorithm = ['auto', 'ball_tree', 'kd_tree', 'brute'],\n",
    "n_neighbors = range(50,201))"
   ]
  },
  {
   "cell_type": "code",
   "execution_count": null,
   "metadata": {},
   "outputs": [],
   "source": [
    "%%time \n",
    "model = KNeighborsClassifier()\n",
    "grid = GridSearchCV(cv=4,n_jobs=-1,scoring='roc_auc',\n",
    "                    estimator=model,\n",
    "                    param_grid=param_grid)\n",
    "\n",
    "grid.fit(X,y)\n",
    "\n",
    "print grid.best_estimator_\n",
    "print grid.best_params_\n",
    "print grid.best_score_"
   ]
  },
  {
   "cell_type": "code",
   "execution_count": null,
   "metadata": {
    "collapsed": true
   },
   "outputs": [],
   "source": [
    "model = grid.best_estimator_"
   ]
  },
  {
   "cell_type": "code",
   "execution_count": 13,
   "metadata": {},
   "outputs": [],
   "source": [
    "#pickle.dump(model,open('pepinillo','wb'))\n",
    "model = pickle.load(open('pepinillo','rb'))"
   ]
  },
  {
   "cell_type": "code",
   "execution_count": 14,
   "metadata": {},
   "outputs": [
    {
     "name": "stdout",
     "output_type": "stream",
     "text": [
      "0.709530396308\n",
      "0.688366977226\n",
      "0.860204081633\n",
      "0.87514863258\n",
      "[[1686    0]\n",
      " [ 274    0]]\n",
      "[[736   0]\n",
      " [105   0]]\n"
     ]
    }
   ],
   "source": [
    "metricas(model,Xt,Xv,yt,yv)"
   ]
  },
  {
   "cell_type": "markdown",
   "metadata": {},
   "source": [
    "## Gradiente Descendiente Estocástico "
   ]
  },
  {
   "cell_type": "code",
   "execution_count": 28,
   "metadata": {},
   "outputs": [],
   "source": [
    "param_grid = dict(penalty = ['l2', 'l1','elasticnet'],\n",
    "alpha = np.arange(0.0001,0.001),\n",
    "loss = ['log']\n",
    "#loss = ['hinge', 'log', 'modified_huber','squared_hinge', \n",
    "#'perceptron']\n",
    "                 )"
   ]
  },
  {
   "cell_type": "code",
   "execution_count": 32,
   "metadata": {},
   "outputs": [
    {
     "name": "stdout",
     "output_type": "stream",
     "text": [
      "SGDClassifier(alpha=0.0001, average=False, class_weight=None, epsilon=0.1,\n",
      "       eta0=0.0, fit_intercept=True, l1_ratio=0.15,\n",
      "       learning_rate='optimal', loss='log', max_iter=5, n_iter=None,\n",
      "       n_jobs=1, penalty='l1', power_t=0.5, random_state=None,\n",
      "       shuffle=True, tol=None, verbose=0, warm_start=False)\n",
      "{'penalty': 'l1', 'alpha': 0.0001, 'loss': 'log'}\n",
      "0.654739108341\n",
      "CPU times: user 144 ms, sys: 40 ms, total: 184 ms\n",
      "Wall time: 328 ms\n"
     ]
    }
   ],
   "source": [
    "%%time \n",
    "model = SGDClassifier()\n",
    "grid = GridSearchCV(cv=4,n_jobs=-1,scoring='roc_auc',\n",
    "                    estimator=model,\n",
    "                    param_grid=param_grid)\n",
    "\n",
    "grid.fit(X,y)\n",
    "\n",
    "print grid.best_estimator_\n",
    "print grid.best_params_\n",
    "print grid.best_score_\n",
    "\n",
    "model = grid.best_estimator_"
   ]
  },
  {
   "cell_type": "code",
   "execution_count": 33,
   "metadata": {},
   "outputs": [
    {
     "name": "stdout",
     "output_type": "stream",
     "text": [
      "0.577925985575\n",
      "0.617248964803\n",
      "0.340306122449\n",
      "0.369797859691\n",
      "[[ 419 1267]\n",
      " [  26  248]]\n",
      "[[212 524]\n",
      " [  6  99]]\n"
     ]
    },
    {
     "name": "stderr",
     "output_type": "stream",
     "text": [
      "/usr/local/lib/python2.7/dist-packages/sklearn/linear_model/base.py:340: RuntimeWarning: overflow encountered in exp\n",
      "  np.exp(prob, prob)\n"
     ]
    }
   ],
   "source": [
    "metricas(model,Xt,Xv,yt,yv)"
   ]
  },
  {
   "cell_type": "markdown",
   "metadata": {},
   "source": [
    "## Bayes Ingenuo "
   ]
  },
  {
   "cell_type": "code",
   "execution_count": 35,
   "metadata": {},
   "outputs": [],
   "source": [
    "model = GaussianNB()"
   ]
  },
  {
   "cell_type": "code",
   "execution_count": 36,
   "metadata": {},
   "outputs": [
    {
     "data": {
      "text/plain": [
       "GaussianNB(priors=None)"
      ]
     },
     "execution_count": 36,
     "metadata": {},
     "output_type": "execute_result"
    }
   ],
   "source": [
    "model.fit(Xt,yt)"
   ]
  },
  {
   "cell_type": "code",
   "execution_count": 37,
   "metadata": {},
   "outputs": [
    {
     "name": "stdout",
     "output_type": "stream",
     "text": [
      "0.811493969227\n",
      "0.803454968944\n",
      "0.867857142857\n",
      "0.887039239001\n",
      "[[1646   40]\n",
      " [ 219   55]]\n",
      "[[728   8]\n",
      " [ 87  18]]\n"
     ]
    }
   ],
   "source": [
    "metricas(model,Xt,Xv,yt,yv)"
   ]
  },
  {
   "cell_type": "code",
   "execution_count": null,
   "metadata": {
    "collapsed": true
   },
   "outputs": [],
   "source": []
  }
 ],
 "metadata": {
  "kernelspec": {
   "display_name": "Python 2",
   "language": "python",
   "name": "python2"
  },
  "language_info": {
   "codemirror_mode": {
    "name": "ipython",
    "version": 2
   },
   "file_extension": ".py",
   "mimetype": "text/x-python",
   "name": "python",
   "nbconvert_exporter": "python",
   "pygments_lexer": "ipython2",
   "version": "2.7.12"
  }
 },
 "nbformat": 4,
 "nbformat_minor": 2
}
