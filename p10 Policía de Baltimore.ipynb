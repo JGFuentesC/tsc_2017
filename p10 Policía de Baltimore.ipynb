{
 "cells": [
  {
   "cell_type": "code",
   "execution_count": 31,
   "metadata": {
    "collapsed": true
   },
   "outputs": [],
   "source": [
    "from __future__ import division\n",
    "import pandas as pd\n",
    "import numpy as np\n",
    "import matplotlib.pyplot as plt\n",
    "import seaborn as sns\n",
    "from datetime import date,datetime\n",
    "from dateutil.relativedelta import relativedelta as rd\n",
    "from analytics_tools3 import freq_discrete\n",
    "%matplotlib inline"
   ]
  },
  {
   "cell_type": "code",
   "execution_count": 2,
   "metadata": {
    "collapsed": true
   },
   "outputs": [],
   "source": [
    "df = pd.read_csv('BPD_Arrests.csv.gz')"
   ]
  },
  {
   "cell_type": "code",
   "execution_count": 4,
   "metadata": {},
   "outputs": [
    {
     "data": {
      "text/html": [
       "<div>\n",
       "<style>\n",
       "    .dataframe thead tr:only-child th {\n",
       "        text-align: right;\n",
       "    }\n",
       "\n",
       "    .dataframe thead th {\n",
       "        text-align: left;\n",
       "    }\n",
       "\n",
       "    .dataframe tbody tr th {\n",
       "        vertical-align: top;\n",
       "    }\n",
       "</style>\n",
       "<table border=\"1\" class=\"dataframe\">\n",
       "  <thead>\n",
       "    <tr style=\"text-align: right;\">\n",
       "      <th></th>\n",
       "      <th>Arrest</th>\n",
       "      <th>Age</th>\n",
       "      <th>Sex</th>\n",
       "      <th>Race</th>\n",
       "      <th>ArrestDate</th>\n",
       "      <th>ArrestTime</th>\n",
       "      <th>ArrestLocation</th>\n",
       "      <th>IncidentOffense</th>\n",
       "      <th>IncidentLocation</th>\n",
       "      <th>Charge</th>\n",
       "      <th>ChargeDescription</th>\n",
       "      <th>District</th>\n",
       "      <th>Post</th>\n",
       "      <th>Neighborhood</th>\n",
       "      <th>Location 1</th>\n",
       "    </tr>\n",
       "  </thead>\n",
       "  <tbody>\n",
       "    <tr>\n",
       "      <th>0</th>\n",
       "      <td>16160529.0</td>\n",
       "      <td>54.0</td>\n",
       "      <td>M</td>\n",
       "      <td>B</td>\n",
       "      <td>11/12/2016</td>\n",
       "      <td>22:35</td>\n",
       "      <td>3500 PELHAM AVE</td>\n",
       "      <td>4ECOMMON ASSAULT</td>\n",
       "      <td>3500 PELHAM AVE</td>\n",
       "      <td>1 1415</td>\n",
       "      <td>COMMON ASSAULT</td>\n",
       "      <td>Northeastern</td>\n",
       "      <td>432.0</td>\n",
       "      <td>Belair-Edison</td>\n",
       "      <td>(39.3208685519, -76.5652449141)</td>\n",
       "    </tr>\n",
       "    <tr>\n",
       "      <th>1</th>\n",
       "      <td>16160490.0</td>\n",
       "      <td>22.0</td>\n",
       "      <td>M</td>\n",
       "      <td>B</td>\n",
       "      <td>11/12/2016</td>\n",
       "      <td>21:49</td>\n",
       "      <td>300 S LOUDON AVE</td>\n",
       "      <td>Unknown Offense</td>\n",
       "      <td>300 S LOUDON AVE</td>\n",
       "      <td>4 3550</td>\n",
       "      <td>POSSESSION</td>\n",
       "      <td>Southwestern</td>\n",
       "      <td>833.0</td>\n",
       "      <td>Irvington</td>\n",
       "      <td>(39.2811486601, -76.6821278085)</td>\n",
       "    </tr>\n",
       "    <tr>\n",
       "      <th>2</th>\n",
       "      <td>16160487.0</td>\n",
       "      <td>31.0</td>\n",
       "      <td>M</td>\n",
       "      <td>B</td>\n",
       "      <td>11/12/2016</td>\n",
       "      <td>21:40</td>\n",
       "      <td>NaN</td>\n",
       "      <td>Unknown Offense</td>\n",
       "      <td>NaN</td>\n",
       "      <td>1 0077</td>\n",
       "      <td>FAILURE TO APPEAR</td>\n",
       "      <td>NaN</td>\n",
       "      <td>NaN</td>\n",
       "      <td>NaN</td>\n",
       "      <td>NaN</td>\n",
       "    </tr>\n",
       "    <tr>\n",
       "      <th>3</th>\n",
       "      <td>16160485.0</td>\n",
       "      <td>31.0</td>\n",
       "      <td>M</td>\n",
       "      <td>B</td>\n",
       "      <td>11/12/2016</td>\n",
       "      <td>20:30</td>\n",
       "      <td>NaN</td>\n",
       "      <td>Unknown Offense</td>\n",
       "      <td>NaN</td>\n",
       "      <td>1 0077</td>\n",
       "      <td>FAILURE TO APPEAR</td>\n",
       "      <td>NaN</td>\n",
       "      <td>NaN</td>\n",
       "      <td>NaN</td>\n",
       "      <td>NaN</td>\n",
       "    </tr>\n",
       "    <tr>\n",
       "      <th>4</th>\n",
       "      <td>16160481.0</td>\n",
       "      <td>33.0</td>\n",
       "      <td>M</td>\n",
       "      <td>B</td>\n",
       "      <td>11/12/2016</td>\n",
       "      <td>19:45</td>\n",
       "      <td>NaN</td>\n",
       "      <td>Unknown Offense</td>\n",
       "      <td>NaN</td>\n",
       "      <td>2 0480</td>\n",
       "      <td>MOTOR VEH/UNLAWFUL TAKING</td>\n",
       "      <td>NaN</td>\n",
       "      <td>NaN</td>\n",
       "      <td>NaN</td>\n",
       "      <td>NaN</td>\n",
       "    </tr>\n",
       "  </tbody>\n",
       "</table>\n",
       "</div>"
      ],
      "text/plain": [
       "       Arrest   Age Sex Race  ArrestDate ArrestTime    ArrestLocation  \\\n",
       "0  16160529.0  54.0   M    B  11/12/2016      22:35   3500 PELHAM AVE   \n",
       "1  16160490.0  22.0   M    B  11/12/2016      21:49  300 S LOUDON AVE   \n",
       "2  16160487.0  31.0   M    B  11/12/2016      21:40               NaN   \n",
       "3  16160485.0  31.0   M    B  11/12/2016      20:30               NaN   \n",
       "4  16160481.0  33.0   M    B  11/12/2016      19:45               NaN   \n",
       "\n",
       "    IncidentOffense  IncidentLocation  Charge          ChargeDescription  \\\n",
       "0  4ECOMMON ASSAULT   3500 PELHAM AVE  1 1415             COMMON ASSAULT   \n",
       "1   Unknown Offense  300 S LOUDON AVE  4 3550                 POSSESSION   \n",
       "2   Unknown Offense               NaN  1 0077          FAILURE TO APPEAR   \n",
       "3   Unknown Offense               NaN  1 0077          FAILURE TO APPEAR   \n",
       "4   Unknown Offense               NaN  2 0480  MOTOR VEH/UNLAWFUL TAKING   \n",
       "\n",
       "       District   Post   Neighborhood                       Location 1  \n",
       "0  Northeastern  432.0  Belair-Edison  (39.3208685519, -76.5652449141)  \n",
       "1  Southwestern  833.0      Irvington  (39.2811486601, -76.6821278085)  \n",
       "2           NaN    NaN            NaN                              NaN  \n",
       "3           NaN    NaN            NaN                              NaN  \n",
       "4           NaN    NaN            NaN                              NaN  "
      ]
     },
     "execution_count": 4,
     "metadata": {},
     "output_type": "execute_result"
    }
   ],
   "source": [
    "df.head()"
   ]
  },
  {
   "cell_type": "code",
   "execution_count": 5,
   "metadata": {},
   "outputs": [
    {
     "data": {
      "text/plain": [
       "(130713, 15)"
      ]
     },
     "execution_count": 5,
     "metadata": {},
     "output_type": "execute_result"
    }
   ],
   "source": [
    "df.shape"
   ]
  },
  {
   "cell_type": "code",
   "execution_count": 15,
   "metadata": {},
   "outputs": [],
   "source": [
    "df['ArrestDate'] = pd.to_datetime(df['ArrestDate']).dt.date"
   ]
  },
  {
   "cell_type": "code",
   "execution_count": 16,
   "metadata": {},
   "outputs": [
    {
     "data": {
      "text/plain": [
       "datetime.date(2016, 11, 12)"
      ]
     },
     "execution_count": 16,
     "metadata": {},
     "output_type": "execute_result"
    }
   ],
   "source": [
    "df.ArrestDate.max()"
   ]
  },
  {
   "cell_type": "code",
   "execution_count": 21,
   "metadata": {},
   "outputs": [
    {
     "name": "stdout",
     "output_type": "stream",
     "text": [
      "Frequency distribution table for variable: District\n",
      "\n",
      "\n",
      "               Freq       Pct  Accum Freq  Accum Pct\n",
      "Southern      11084  0.141016       11084   0.141016\n",
      "Eastern       10449  0.132937       21533   0.273953\n",
      "Western       10202  0.129795       31735   0.403748\n",
      "Southeastern   9854  0.125367       41589   0.529115\n",
      "Northeastern   8967  0.114083       50556   0.643198\n",
      "Central        8825  0.112276       59381   0.755474\n",
      "Southwestern   7095  0.090266       66476   0.845740\n",
      "Northwestern   6998  0.089032       73474   0.934772\n",
      "Northern       5127  0.065228       78601   1.000000\n",
      "\n",
      "\n"
     ]
    }
   ],
   "source": [
    "freq_discrete(df[~df.District.isnull()],'District',True)"
   ]
  },
  {
   "cell_type": "code",
   "execution_count": 62,
   "metadata": {
    "collapsed": true
   },
   "outputs": [],
   "source": [
    "aux = df[['ArrestDate','District']].copy()\n",
    "aux['mes'] = df.ArrestDate.map(lambda x:x.year*100)\n",
    "aux.head()\n",
    "aux['n'] = 1\n",
    "aux['nmiss'] = (aux.District.isnull()).astype(int)\n",
    "aux = aux[['mes','n','nmiss']].groupby('mes').sum()"
   ]
  },
  {
   "cell_type": "code",
   "execution_count": 63,
   "metadata": {
    "collapsed": true
   },
   "outputs": [],
   "source": [
    "aux['pct_miss'] = aux['nmiss']/aux['n']"
   ]
  },
  {
   "cell_type": "code",
   "execution_count": 64,
   "metadata": {},
   "outputs": [
    {
     "data": {
      "text/plain": [
       "<matplotlib.axes._subplots.AxesSubplot at 0x7fa137a42b90>"
      ]
     },
     "execution_count": 64,
     "metadata": {},
     "output_type": "execute_result"
    },
    {
     "data": {
      "image/png": "[encoded data removed]",
      "text/plain": [
       "<matplotlib.figure.Figure at 0x7fa137a56a50>"
      ]
     },
     "metadata": {},
     "output_type": "display_data"
    }
   ],
   "source": [
    "aux['n'].plot(kind='bar')"
   ]
  },
  {
   "cell_type": "code",
   "execution_count": 65,
   "metadata": {},
   "outputs": [],
   "source": [
    "aux.drop(['n','nmiss'],axis=1,inplace=True)"
   ]
  },
  {
   "cell_type": "code",
   "execution_count": 66,
   "metadata": {},
   "outputs": [
    {
     "data": {
      "text/plain": [
       "<matplotlib.axes._subplots.AxesSubplot at 0x7fa137998e50>"
      ]
     },
     "execution_count": 66,
     "metadata": {},
     "output_type": "execute_result"
    },
    {
     "data": {
      "image/png": "[encoded data removed]",
      "text/plain": [
       "<matplotlib.figure.Figure at 0x7fa134a78410>"
      ]
     },
     "metadata": {},
     "output_type": "display_data"
    }
   ],
   "source": [
    "aux.plot(kind='bar')"
   ]
  },
  {
   "cell_type": "code",
   "execution_count": 54,
   "metadata": {},
   "outputs": [
    {
     "name": "stdout",
     "output_type": "stream",
     "text": [
      "Frequency distribution table for variable: IncidentOffense\n",
      "\n",
      "\n",
      "                               Freq       Pct  Accum Freq  Accum Pct\n",
      "Unknown Offense               82046  0.627680       82046   0.627680\n",
      "87-Narcotics                  12294  0.094053       94340   0.721734\n",
      "4E-Common Assault              6304  0.048228      100644   0.769962\n",
      "UNKNOWN OFFENSE                3209  0.024550      103853   0.794512\n",
      "87O-Narcotics (Outside)        2602  0.019906      106455   0.814418\n",
      "6C-Larceny- Shoplifting        2222  0.016999      108677   0.831417\n",
      "79-Other                       1959  0.014987      110636   0.846404\n",
      "24-Towed Vehicle               1581  0.012095      112217   0.858499\n",
      "97-Search & Seizure            1544  0.011812      113761   0.870311\n",
      "4C-Agg. Asslt.- Oth.           1466  0.011215      115227   0.881527\n",
      "4B-Agg. Asslt.- Cut            1302  0.009961      116529   0.891487\n",
      "5A-Burg. Res. (Force)           852  0.006518      117381   0.898006\n",
      "55-Disorderly Person            817  0.006250      118198   0.904256\n",
      "55A-Prostitution                666  0.005095      118864   0.909351\n",
      "75-Destruct. Of Property        640  0.004896      119504   0.914247\n",
      "4D-Agg. Asslt.- Hand            605  0.004628      120109   0.918876\n",
      "115-Trespassing                 570  0.004361      120679   0.923236\n",
      "7A-Stolen Auto                  531  0.004062      121210   0.927299\n",
      "3B-Robb Highway (Ua)            511  0.003909      121721   0.931208\n",
      "4ECOMMON ASSAULT                475  0.003634      122196   0.934842\n",
      "4A-Agg. Asslt.- Gun             412  0.003152      122608   0.937994\n",
      "6D-Larceny- From Auto           412  0.003152      123020   0.941146\n",
      "118-Burglary - Fourth Degree    409  0.003129      123429   0.944275\n",
      "3AF-Robb Hwy-Firearm            379  0.002899      123808   0.947174\n",
      "54-Armed Person                 367  0.002808      124175   0.949982\n",
      "5D-Burg. Oth. (Force)           356  0.002724      124531   0.952706\n",
      "61-Person Wanted On War         331  0.002532      124862   0.955238\n",
      "6J-Larceny- Other               323  0.002471      125185   0.957709\n",
      "6G-Larceny- From Bldg.          281  0.002150      125466   0.959859\n",
      "49-Family Disturbance           248  0.001897      125714   0.961756\n",
      "...                             ...       ...         ...        ...\n",
      "3NFROBB MISC-FIREARM              1  0.000008      130684   0.999778\n",
      "95EXPARTE                         1  0.000008      130685   0.999786\n",
      "3BJROBB CARJACK(UA)               1  0.000008      130686   0.999793\n",
      "96AWEAPONS PAT DOWN               1  0.000008      130687   0.999801\n",
      "3JFROBB RESIDENCE-FIREARM         1  0.000008      130688   0.999809\n",
      "8FO-Arson Public Str-Occ          1  0.000008      130689   0.999816\n",
      "8AOARSON SIN RES STR-OCC          1  0.000008      130690   0.999824\n",
      "111-Protective Ord                1  0.000008      130691   0.999832\n",
      "5C-Burg. Res. (Nof                1  0.000008      130692   0.999839\n",
      "2HINDECENT EXP.                   1  0.000008      130693   0.999847\n",
      "8EV-Arson Oth Comm Str-Vac        1  0.000008      130694   0.999855\n",
      "58INJURED PERSON                  1  0.000008      130695   0.999862\n",
      "8AO-Arson Sin Res                 1  0.000008      130696   0.999870\n",
      "33-Parking Complaint              1  0.000008      130697   0.999878\n",
      "48-Involuntary Det                1  0.000008      130698   0.999885\n",
      "3EF-Robb Gas Station-Fi           1  0.000008      130699   0.999893\n",
      "2BRAPE (ATTEMPT)                  1  0.000008      130700   0.999901\n",
      "3GOROBB CONV STORE-OTHER WPN      1  0.000008      130701   0.999908\n",
      "3AJOROBB CARJACK-OTHER WPN        1  0.000008      130702   0.999916\n",
      "23-Unauthorized Us                1  0.000008      130703   0.999923\n",
      "71SEX OFFENDER REGISTRY           1  0.000008      130704   0.999931\n",
      "48INVOLUNTARY DETENTION           1  0.000008      130705   0.999939\n",
      "3JF-Robb Residence-Firear         1  0.000008      130706   0.999946\n",
      "3JF-Robb Residence-Fire           1  0.000008      130707   0.999954\n",
      "1BMANSLAUGHTER                    1  0.000008      130708   0.999962\n",
      "5D-Burg. Oth. (For                1  0.000008      130709   0.999969\n",
      "3LF-Robb Bank-Firearm             1  0.000008      130710   0.999977\n",
      "107-Drunkenness                   1  0.000008      130711   0.999985\n",
      "77DOG BITE                        1  0.000008      130712   0.999992\n",
      "3EO-Robb Gas Station-Other W      1  0.000008      130713   1.000000\n",
      "\n",
      "[271 rows x 4 columns]\n",
      "\n",
      "\n"
     ]
    }
   ],
   "source": [
    "freq_discrete(df,'IncidentOffense',True)"
   ]
  },
  {
   "cell_type": "code",
   "execution_count": 55,
   "metadata": {},
   "outputs": [
    {
     "data": {
      "text/html": [
       "<div>\n",
       "<style>\n",
       "    .dataframe thead tr:only-child th {\n",
       "        text-align: right;\n",
       "    }\n",
       "\n",
       "    .dataframe thead th {\n",
       "        text-align: left;\n",
       "    }\n",
       "\n",
       "    .dataframe tbody tr th {\n",
       "        vertical-align: top;\n",
       "    }\n",
       "</style>\n",
       "<table border=\"1\" class=\"dataframe\">\n",
       "  <thead>\n",
       "    <tr style=\"text-align: right;\">\n",
       "      <th></th>\n",
       "      <th>pct_miss</th>\n",
       "    </tr>\n",
       "    <tr>\n",
       "      <th>mes</th>\n",
       "      <th></th>\n",
       "    </tr>\n",
       "  </thead>\n",
       "  <tbody>\n",
       "    <tr>\n",
       "      <th>201301</th>\n",
       "      <td>0.311782</td>\n",
       "    </tr>\n",
       "    <tr>\n",
       "      <th>201302</th>\n",
       "      <td>0.302162</td>\n",
       "    </tr>\n",
       "    <tr>\n",
       "      <th>201303</th>\n",
       "      <td>0.298446</td>\n",
       "    </tr>\n",
       "    <tr>\n",
       "      <th>201304</th>\n",
       "      <td>0.315115</td>\n",
       "    </tr>\n",
       "    <tr>\n",
       "      <th>201305</th>\n",
       "      <td>0.309863</td>\n",
       "    </tr>\n",
       "  </tbody>\n",
       "</table>\n",
       "</div>"
      ],
      "text/plain": [
       "        pct_miss\n",
       "mes             \n",
       "201301  0.311782\n",
       "201302  0.302162\n",
       "201303  0.298446\n",
       "201304  0.315115\n",
       "201305  0.309863"
      ]
     },
     "execution_count": 55,
     "metadata": {},
     "output_type": "execute_result"
    }
   ],
   "source": [
    "aux.head()"
   ]
  },
  {
   "cell_type": "code",
   "execution_count": null,
   "metadata": {
    "collapsed": true
   },
   "outputs": [],
   "source": []
  }
 ],
 "metadata": {
  "kernelspec": {
   "display_name": "Python 2",
   "language": "python",
   "name": "python2"
  },
  "language_info": {
   "codemirror_mode": {
    "name": "ipython",
    "version": 2
   },
   "file_extension": ".py",
   "mimetype": "text/x-python",
   "name": "python",
   "nbconvert_exporter": "python",
   "pygments_lexer": "ipython2",
   "version": "2.7.12"
  }
 },
 "nbformat": 4,
 "nbformat_minor": 2
}
